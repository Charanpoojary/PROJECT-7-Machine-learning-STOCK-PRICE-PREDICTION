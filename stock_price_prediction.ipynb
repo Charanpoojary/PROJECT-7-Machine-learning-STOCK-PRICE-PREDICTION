{
  "nbformat": 4,
  "nbformat_minor": 0,
  "metadata": {
    "colab": {
      "name": "stock price prediction.ipynb",
      "provenance": [],
      "collapsed_sections": [],
      "authorship_tag": "ABX9TyNFvQnNNx0jEVFO7UYU6UGT",
      "include_colab_link": true
    },
    "kernelspec": {
      "name": "python3",
      "display_name": "Python 3"
    },
    "language_info": {
      "name": "python"
    }
  },
  "cells": [
    {
      "cell_type": "markdown",
      "metadata": {
        "id": "view-in-github",
        "colab_type": "text"
      },
      "source": [
        "<a href=\"https://colab.research.google.com/github/Charanpoojary/STOCK-PRICE-PREDICTION-SUPERVISED-MACHINE-LEARNING-/blob/main/stock_price_prediction.ipynb\" target=\"_parent\"><img src=\"https://colab.research.google.com/assets/colab-badge.svg\" alt=\"Open In Colab\"/></a>"
      ]
    },
    {
      "cell_type": "code",
      "execution_count": null,
      "metadata": {
        "id": "iXAB3G93_PJy"
      },
      "outputs": [],
      "source": [
        "from sklearn.model_selection import train_test_split  # train test split for data separation  \n",
        "from sklearn.linear_model import LinearRegression     # importing the algorithm\n",
        "from sklearn import metrics                           # importing metrics to check the model\n",
        "%matplotlib inline"
      ]
    },
    {
      "cell_type": "code",
      "source": [
        "import pandas as pd   # importing libraries that is needed for the operation\n",
        "import numpy  as np\n",
        "import matplotlib.pyplot as plt   # visualisation librar"
      ],
      "metadata": {
        "id": "fPx_O5sEAKmL"
      },
      "execution_count": null,
      "outputs": []
    },
    {
      "cell_type": "code",
      "source": [
        "from google.colab import drive\n",
        "drive.mount('/content/drive')"
      ],
      "metadata": {
        "id": "OqaAxGNZBLTP",
        "colab": {
          "base_uri": "https://localhost:8080/"
        },
        "outputId": "60df8c0c-c5e5-4bbd-e6ef-305ff796bc84"
      },
      "execution_count": null,
      "outputs": [
        {
          "output_type": "stream",
          "name": "stdout",
          "text": [
            "Mounted at /content/drive\n"
          ]
        }
      ]
    },
    {
      "cell_type": "code",
      "source": [
        "file_path = '/content/drive/MyDrive/Datasets/tesla.csv'\n",
        "df=pd.read_csv(file_path)"
      ],
      "metadata": {
        "id": "hcY_wqMCDKw0"
      },
      "execution_count": null,
      "outputs": []
    },
    {
      "cell_type": "code",
      "source": [
        "df.head()   # returns the top 5 rows of the dataset"
      ],
      "metadata": {
        "id": "VY8i5QhkDp60"
      },
      "execution_count": null,
      "outputs": []
    },
    {
      "cell_type": "code",
      "source": [
        "df.shape      # returns the rows and columnns of the dataset\n"
      ],
      "metadata": {
        "id": "LUCqk5dM5G8e"
      },
      "execution_count": null,
      "outputs": []
    },
    {
      "cell_type": "code",
      "source": [
        "df.info()      # returns the information about the dataset"
      ],
      "metadata": {
        "id": "fu-9SzXx5GQH"
      },
      "execution_count": null,
      "outputs": []
    },
    {
      "cell_type": "code",
      "source": [
        "df.describe()    # returns the information about numerical columns"
      ],
      "metadata": {
        "id": "x5X7ws5W5Y0I"
      },
      "execution_count": null,
      "outputs": []
    },
    {
      "cell_type": "code",
      "source": [
        "df.isnull().sum()   # checking for null values"
      ],
      "metadata": {
        "id": "XOKHGSZU5iOM"
      },
      "execution_count": null,
      "outputs": []
    },
    {
      "cell_type": "code",
      "source": [
        "# there is no null values in the dataset"
      ],
      "metadata": {
        "id": "bbbnyeow5xDs"
      },
      "execution_count": null,
      "outputs": []
    },
    {
      "cell_type": "code",
      "source": [
        "df['Date']=pd.to_datetime(df.Date)   # converting date column into date time format"
      ],
      "metadata": {
        "id": "YQU7jObh51Aw"
      },
      "execution_count": null,
      "outputs": []
    },
    {
      "cell_type": "code",
      "source": [
        "df.drop('Adj Close', axis=1, inplace=True)   # droping column permanently"
      ],
      "metadata": {
        "id": "pGupzS9-IJPq"
      },
      "execution_count": null,
      "outputs": []
    },
    {
      "cell_type": "code",
      "source": [
        "print(f'Dataframe contains stock price between {df.Date.min()} {df.Date.max()}')   # checking the starting and ending date of the dataset"
      ],
      "metadata": {
        "colab": {
          "base_uri": "https://localhost:8080/"
        },
        "id": "HwytsXoA6RfE",
        "outputId": "a996fe9f-2880-4497-f61c-1f0d13c5267e"
      },
      "execution_count": null,
      "outputs": [
        {
          "output_type": "stream",
          "name": "stdout",
          "text": [
            "Dataframe contains stock price between 2010-01-07 00:00:00 2019-12-03 00:00:00\n"
          ]
        }
      ]
    },
    {
      "cell_type": "code",
      "source": [
        "print(f'Total days= {(df.Date.max() - df.Date.min()).days} days')  # calculating total days of the dataset"
      ],
      "metadata": {
        "colab": {
          "base_uri": "https://localhost:8080/"
        },
        "id": "lsqS820t7CIB",
        "outputId": "d143e990-f3b3-48b1-ad90-14daad0ae5fa"
      },
      "execution_count": null,
      "outputs": [
        {
          "output_type": "stream",
          "name": "stdout",
          "text": [
            "Total days= 3617 days\n"
          ]
        }
      ]
    },
    {
      "cell_type": "code",
      "source": [
        "df[['Open','High','Low','Close']].plot(kind='box')    # plotting bar graph for the dataset"
      ],
      "metadata": {
        "colab": {
          "base_uri": "https://localhost:8080/",
          "height": 282
        },
        "id": "JE92VhqJ7ug0",
        "outputId": "3a024f7d-f7c8-4b27-da3b-bca8a5a53f13"
      },
      "execution_count": null,
      "outputs": [
        {
          "output_type": "execute_result",
          "data": {
            "text/plain": [
              "<matplotlib.axes._subplots.AxesSubplot at 0x7f72a6261b50>"
            ]
          },
          "metadata": {},
          "execution_count": 105
        },
        {
          "output_type": "display_data",
          "data": {
            "text/plain": [
              "<Figure size 432x288 with 1 Axes>"
            ],
            "image/png": "[encoded data removed]"
          },
          "metadata": {
            "needs_background": "light"
          }
        }
      ]
    },
    {
      "cell_type": "code",
      "source": [
        "# plottin the graph for close ( this is what we have to predict)\n",
        "df['Close'].plot(figsize=(16,6))"
      ],
      "metadata": {
        "colab": {
          "base_uri": "https://localhost:8080/",
          "height": 392
        },
        "id": "DbFDDlraH-6P",
        "outputId": "32f97d70-c6ec-41cd-d149-59e7fa6a9a27"
      },
      "execution_count": null,
      "outputs": [
        {
          "output_type": "execute_result",
          "data": {
            "text/plain": [
              "<matplotlib.axes._subplots.AxesSubplot at 0x7f72a6261550>"
            ]
          },
          "metadata": {},
          "execution_count": 111
        },
        {
          "output_type": "display_data",
          "data": {
            "text/plain": [
              "<Figure size 1152x432 with 1 Axes>"
            ],
            "image/png": "[encoded data removed]"
          },
          "metadata": {
            "needs_background": "light"
          }
        }
      ]
    },
    {
      "cell_type": "code",
      "source": [
        "# building the regression model"
      ],
      "metadata": {
        "id": "foH14WTX8WC9"
      },
      "execution_count": null,
      "outputs": []
    },
    {
      "cell_type": "code",
      "source": [
        "from sklearn.model_selection import train_test_split   # train test split to separate the dataset\n",
        "from sklearn.preprocessing import MinMaxScaler         # for scaling our dataset\n",
        "from sklearn.preprocessing import StandardScaler"
      ],
      "metadata": {
        "id": "FmVvg94d8u76"
      },
      "execution_count": null,
      "outputs": []
    },
    {
      "cell_type": "code",
      "source": [
        "# metrics neeeded for evaluation\n",
        "from sklearn.metrics import mean_squared_error as mse        \n",
        "from sklearn.metrics import r2_score"
      ],
      "metadata": {
        "id": "ibKHZwXS9HEt"
      },
      "execution_count": null,
      "outputs": []
    },
    {
      "cell_type": "code",
      "source": [
        "# splitting the data into train and test"
      ],
      "metadata": {
        "id": "y0t_Safr9r9U"
      },
      "execution_count": null,
      "outputs": []
    },
    {
      "cell_type": "code",
      "source": [
        "X= df[['Open','High','Low','Volume']]   # independant variable\n",
        "Y= df['Close']                          # dependant variable"
      ],
      "metadata": {
        "id": "UqDS93as9X0Z"
      },
      "execution_count": null,
      "outputs": []
    },
    {
      "cell_type": "code",
      "source": [
        "X_train, X_test, Y_train, Y_test = train_test_split(X,Y,random_state=101)    # splitting the data"
      ],
      "metadata": {
        "id": "sHHsze2k-t-F"
      },
      "execution_count": null,
      "outputs": []
    },
    {
      "cell_type": "code",
      "source": [
        "X_train.shape    # checking the rows and column of the x_train"
      ],
      "metadata": {
        "colab": {
          "base_uri": "https://localhost:8080/"
        },
        "id": "F5ClleloJzaG",
        "outputId": "d6341d3e-a813-4b09-8844-71f8b9e262cb"
      },
      "execution_count": null,
      "outputs": [
        {
          "output_type": "execute_result",
          "data": {
            "text/plain": [
              "(1644, 4)"
            ]
          },
          "metadata": {},
          "execution_count": 124
        }
      ]
    },
    {
      "cell_type": "code",
      "source": [
        "X_test.shape      # checking rows and columns of the x_test"
      ],
      "metadata": {
        "colab": {
          "base_uri": "https://localhost:8080/"
        },
        "id": "OaqGvL7fJ3EO",
        "outputId": "e1c51d82-4f93-4ffd-8e15-31bbd3267aee"
      },
      "execution_count": null,
      "outputs": [
        {
          "output_type": "execute_result",
          "data": {
            "text/plain": [
              "(549, 4)"
            ]
          },
          "metadata": {},
          "execution_count": 123
        }
      ]
    },
    {
      "cell_type": "code",
      "source": [
        "# feature scaling\n",
        "scaler =StandardScaler().fit(X_train)"
      ],
      "metadata": {
        "id": "Snsv3o18_Upc"
      },
      "execution_count": null,
      "outputs": []
    },
    {
      "cell_type": "code",
      "source": [
        "from sklearn.linear_model import LinearRegression  # importing linear regresion\n",
        "from sklearn.metrics import confusion_matrix,accuracy_score"
      ],
      "metadata": {
        "id": "kK1VQ6V5AEhc"
      },
      "execution_count": null,
      "outputs": []
    },
    {
      "cell_type": "code",
      "source": [
        "# creating a linear model\n",
        "regressor=LinearRegression()\n",
        "regressor.fit(X_train,Y_train)   # fitting the data"
      ],
      "metadata": {
        "colab": {
          "base_uri": "https://localhost:8080/"
        },
        "id": "fBB3hBdAANW6",
        "outputId": "b342831d-3a9a-49a4-bbac-5d6a3841c0fa"
      },
      "execution_count": null,
      "outputs": [
        {
          "output_type": "execute_result",
          "data": {
            "text/plain": [
              "LinearRegression()"
            ]
          },
          "metadata": {},
          "execution_count": 127
        }
      ]
    },
    {
      "cell_type": "code",
      "source": [
        "print(regressor.coef_)"
      ],
      "metadata": {
        "colab": {
          "base_uri": "https://localhost:8080/"
        },
        "id": "mrFS3ENiK3Sk",
        "outputId": "7541bd6a-dd36-4a0d-c229-d8c104e66fd9"
      },
      "execution_count": null,
      "outputs": [
        {
          "output_type": "stream",
          "name": "stdout",
          "text": [
            "[-6.40268837e-01  9.02566787e-01  7.36632963e-01 -4.20009997e-08]\n"
          ]
        }
      ]
    },
    {
      "cell_type": "code",
      "source": [
        "print(regressor.intercept_)"
      ],
      "metadata": {
        "colab": {
          "base_uri": "https://localhost:8080/"
        },
        "id": "Tg0ajaIZLAw2",
        "outputId": "c4dce385-9d12-44df-bfff-f144cfb6f71a"
      },
      "execution_count": null,
      "outputs": [
        {
          "output_type": "stream",
          "name": "stdout",
          "text": [
            "0.042055288669047286\n"
          ]
        }
      ]
    },
    {
      "cell_type": "code",
      "source": [
        "Y_train_pred=regressor.predict(X_train)\n",
        "print(Y_train_pred)"
      ],
      "metadata": {
        "id": "TzbXJqgqLJts"
      },
      "execution_count": null,
      "outputs": []
    },
    {
      "cell_type": "code",
      "source": [
        "Y_test_pred=regressor.predict(X_test)    # predicting on a unseen data\n",
        "print(Y_test_pred)"
      ],
      "metadata": {
        "id": "8pD7VBvoLjTQ"
      },
      "execution_count": null,
      "outputs": []
    },
    {
      "cell_type": "code",
      "source": [
        "Y_test_pred.shape   # checking the shape "
      ],
      "metadata": {
        "colab": {
          "base_uri": "https://localhost:8080/"
        },
        "id": "BDgPVcQNL4n_",
        "outputId": "056efd0c-cf42-459e-91be-4cf716ddbc6b"
      },
      "execution_count": null,
      "outputs": [
        {
          "output_type": "execute_result",
          "data": {
            "text/plain": [
              "(549,)"
            ]
          },
          "metadata": {},
          "execution_count": 152
        }
      ]
    },
    {
      "cell_type": "code",
      "source": [
        "dataframe=pd.DataFrame({'actual':Y_test,'predicted':Y_test_pred})"
      ],
      "metadata": {
        "id": "qI7wuQpqNBoG"
      },
      "execution_count": null,
      "outputs": []
    },
    {
      "cell_type": "code",
      "source": [
        "dataframe.head(25) # returns the top 25 rows"
      ],
      "metadata": {
        "id": "m1W3xviENSPX",
        "colab": {
          "base_uri": "https://localhost:8080/",
          "height": 833
        },
        "outputId": "244e51af-d30c-4e3b-b89f-1f24017b817b"
      },
      "execution_count": null,
      "outputs": [
        {
          "output_type": "execute_result",
          "data": {
            "text/plain": [
              "          actual   predicted\n",
              "925   254.839996  255.088313\n",
              "1151  206.550003  207.074280\n",
              "1378  233.389999  233.998912\n",
              "2079  310.700012  306.211126\n",
              "762   122.269997  121.151379\n",
              "330    28.340000   27.856168\n",
              "254    29.129999   29.147291\n",
              "900   169.619995  169.441967\n",
              "1328  231.960007  231.566506\n",
              "1440  232.740005  232.788929\n",
              "1869  307.540009  305.428715\n",
              "452    33.590000   33.205813\n",
              "482    29.809999   29.656492\n",
              "1660  249.240005  249.844100\n",
              "240    27.860001   28.045609\n",
              "1373  227.070007  227.048509\n",
              "1084  227.479996  228.952834\n",
              "1243  256.290009  257.146310\n",
              "1258  262.019989  264.255379\n",
              "37     19.100000   18.971738\n",
              "1983  284.179993  282.785315\n",
              "2008  362.220001  358.620165\n",
              "742    94.470001   95.215528\n",
              "1054  277.390015  274.740951\n",
              "2086  256.880005  252.238341"
            ],
            "text/html": [
              "\n",
              "  <div id=\"df-406d47ee-3542-4761-8868-edf4069ee85b\">\n",
              "    <div class=\"colab-df-container\">\n",
              "      <div>\n",
              "<style scoped>\n",
              "    .dataframe tbody tr th:only-of-type {\n",
              "        vertical-align: middle;\n",
              "    }\n",
              "\n",
              "    .dataframe tbody tr th {\n",
              "        vertical-align: top;\n",
              "    }\n",
              "\n",
              "    .dataframe thead th {\n",
              "        text-align: right;\n",
              "    }\n",
              "</style>\n",
              "<table border=\"1\" class=\"dataframe\">\n",
              "  <thead>\n",
              "    <tr style=\"text-align: right;\">\n",
              "      <th></th>\n",
              "      <th>actual</th>\n",
              "      <th>predicted</th>\n",
              "    </tr>\n",
              "  </thead>\n",
              "  <tbody>\n",
              "    <tr>\n",
              "      <th>925</th>\n",
              "      <td>254.839996</td>\n",
              "      <td>255.088313</td>\n",
              "    </tr>\n",
              "    <tr>\n",
              "      <th>1151</th>\n",
              "      <td>206.550003</td>\n",
              "      <td>207.074280</td>\n",
              "    </tr>\n",
              "    <tr>\n",
              "      <th>1378</th>\n",
              "      <td>233.389999</td>\n",
              "      <td>233.998912</td>\n",
              "    </tr>\n",
              "    <tr>\n",
              "      <th>2079</th>\n",
              "      <td>310.700012</td>\n",
              "      <td>306.211126</td>\n",
              "    </tr>\n",
              "    <tr>\n",
              "      <th>762</th>\n",
              "      <td>122.269997</td>\n",
              "      <td>121.151379</td>\n",
              "    </tr>\n",
              "    <tr>\n",
              "      <th>330</th>\n",
              "      <td>28.340000</td>\n",
              "      <td>27.856168</td>\n",
              "    </tr>\n",
              "    <tr>\n",
              "      <th>254</th>\n",
              "      <td>29.129999</td>\n",
              "      <td>29.147291</td>\n",
              "    </tr>\n",
              "    <tr>\n",
              "      <th>900</th>\n",
              "      <td>169.619995</td>\n",
              "      <td>169.441967</td>\n",
              "    </tr>\n",
              "    <tr>\n",
              "      <th>1328</th>\n",
              "      <td>231.960007</td>\n",
              "      <td>231.566506</td>\n",
              "    </tr>\n",
              "    <tr>\n",
              "      <th>1440</th>\n",
              "      <td>232.740005</td>\n",
              "      <td>232.788929</td>\n",
              "    </tr>\n",
              "    <tr>\n",
              "      <th>1869</th>\n",
              "      <td>307.540009</td>\n",
              "      <td>305.428715</td>\n",
              "    </tr>\n",
              "    <tr>\n",
              "      <th>452</th>\n",
              "      <td>33.590000</td>\n",
              "      <td>33.205813</td>\n",
              "    </tr>\n",
              "    <tr>\n",
              "      <th>482</th>\n",
              "      <td>29.809999</td>\n",
              "      <td>29.656492</td>\n",
              "    </tr>\n",
              "    <tr>\n",
              "      <th>1660</th>\n",
              "      <td>249.240005</td>\n",
              "      <td>249.844100</td>\n",
              "    </tr>\n",
              "    <tr>\n",
              "      <th>240</th>\n",
              "      <td>27.860001</td>\n",
              "      <td>28.045609</td>\n",
              "    </tr>\n",
              "    <tr>\n",
              "      <th>1373</th>\n",
              "      <td>227.070007</td>\n",
              "      <td>227.048509</td>\n",
              "    </tr>\n",
              "    <tr>\n",
              "      <th>1084</th>\n",
              "      <td>227.479996</td>\n",
              "      <td>228.952834</td>\n",
              "    </tr>\n",
              "    <tr>\n",
              "      <th>1243</th>\n",
              "      <td>256.290009</td>\n",
              "      <td>257.146310</td>\n",
              "    </tr>\n",
              "    <tr>\n",
              "      <th>1258</th>\n",
              "      <td>262.019989</td>\n",
              "      <td>264.255379</td>\n",
              "    </tr>\n",
              "    <tr>\n",
              "      <th>37</th>\n",
              "      <td>19.100000</td>\n",
              "      <td>18.971738</td>\n",
              "    </tr>\n",
              "    <tr>\n",
              "      <th>1983</th>\n",
              "      <td>284.179993</td>\n",
              "      <td>282.785315</td>\n",
              "    </tr>\n",
              "    <tr>\n",
              "      <th>2008</th>\n",
              "      <td>362.220001</td>\n",
              "      <td>358.620165</td>\n",
              "    </tr>\n",
              "    <tr>\n",
              "      <th>742</th>\n",
              "      <td>94.470001</td>\n",
              "      <td>95.215528</td>\n",
              "    </tr>\n",
              "    <tr>\n",
              "      <th>1054</th>\n",
              "      <td>277.390015</td>\n",
              "      <td>274.740951</td>\n",
              "    </tr>\n",
              "    <tr>\n",
              "      <th>2086</th>\n",
              "      <td>256.880005</td>\n",
              "      <td>252.238341</td>\n",
              "    </tr>\n",
              "  </tbody>\n",
              "</table>\n",
              "</div>\n",
              "      <button class=\"colab-df-convert\" onclick=\"convertToInteractive('df-406d47ee-3542-4761-8868-edf4069ee85b')\"\n",
              "              title=\"Convert this dataframe to an interactive table.\"\n",
              "              style=\"display:none;\">\n",
              "        \n",
              "  <svg xmlns=\"http://www.w3.org/2000/svg\" height=\"24px\"viewBox=\"0 0 24 24\"\n",
              "       width=\"24px\">\n",
              "    <path d=\"M0 0h24v24H0V0z\" fill=\"none\"/>\n",
              "    <path d=\"M18.56 5.44l.94 2.06.94-2.06 2.06-.94-2.06-.94-.94-2.06-.94 2.06-2.06.94zm-11 1L8.5 8.5l.94-2.06 2.06-.94-2.06-.94L8.5 2.5l-.94 2.06-2.06.94zm10 10l.94 2.06.94-2.06 2.06-.94-2.06-.94-.94-2.06-.94 2.06-2.06.94z\"/><path d=\"M17.41 7.96l-1.37-1.37c-.4-.4-.92-.59-1.43-.59-.52 0-1.04.2-1.43.59L10.3 9.45l-7.72 7.72c-.78.78-.78 2.05 0 2.83L4 21.41c.39.39.9.59 1.41.59.51 0 1.02-.2 1.41-.59l7.78-7.78 2.81-2.81c.8-.78.8-2.07 0-2.86zM5.41 20L4 18.59l7.72-7.72 1.47 1.35L5.41 20z\"/>\n",
              "  </svg>\n",
              "      </button>\n",
              "      \n",
              "  <style>\n",
              "    .colab-df-container {\n",
              "      display:flex;\n",
              "      flex-wrap:wrap;\n",
              "      gap: 12px;\n",
              "    }\n",
              "\n",
              "    .colab-df-convert {\n",
              "      background-color: #E8F0FE;\n",
              "      border: none;\n",
              "      border-radius: 50%;\n",
              "      cursor: pointer;\n",
              "      display: none;\n",
              "      fill: #1967D2;\n",
              "      height: 32px;\n",
              "      padding: 0 0 0 0;\n",
              "      width: 32px;\n",
              "    }\n",
              "\n",
              "    .colab-df-convert:hover {\n",
              "      background-color: #E2EBFA;\n",
              "      box-shadow: 0px 1px 2px rgba(60, 64, 67, 0.3), 0px 1px 3px 1px rgba(60, 64, 67, 0.15);\n",
              "      fill: #174EA6;\n",
              "    }\n",
              "\n",
              "    [theme=dark] .colab-df-convert {\n",
              "      background-color: #3B4455;\n",
              "      fill: #D2E3FC;\n",
              "    }\n",
              "\n",
              "    [theme=dark] .colab-df-convert:hover {\n",
              "      background-color: #434B5C;\n",
              "      box-shadow: 0px 1px 3px 1px rgba(0, 0, 0, 0.15);\n",
              "      filter: drop-shadow(0px 1px 2px rgba(0, 0, 0, 0.3));\n",
              "      fill: #FFFFFF;\n",
              "    }\n",
              "  </style>\n",
              "\n",
              "      <script>\n",
              "        const buttonEl =\n",
              "          document.querySelector('#df-406d47ee-3542-4761-8868-edf4069ee85b button.colab-df-convert');\n",
              "        buttonEl.style.display =\n",
              "          google.colab.kernel.accessAllowed ? 'block' : 'none';\n",
              "\n",
              "        async function convertToInteractive(key) {\n",
              "          const element = document.querySelector('#df-406d47ee-3542-4761-8868-edf4069ee85b');\n",
              "          const dataTable =\n",
              "            await google.colab.kernel.invokeFunction('convertToInteractive',\n",
              "                                                     [key], {});\n",
              "          if (!dataTable) return;\n",
              "\n",
              "          const docLinkHtml = 'Like what you see? Visit the ' +\n",
              "            '<a target=\"_blank\" href=https://colab.research.google.com/notebooks/data_table.ipynb>data table notebook</a>'\n",
              "            + ' to learn more about interactive tables.';\n",
              "          element.innerHTML = '';\n",
              "          dataTable['output_type'] = 'display_data';\n",
              "          await google.colab.output.renderOutput(dataTable, element);\n",
              "          const docLink = document.createElement('div');\n",
              "          docLink.innerHTML = docLinkHtml;\n",
              "          element.appendChild(docLink);\n",
              "        }\n",
              "      </script>\n",
              "    </div>\n",
              "  </div>\n",
              "  "
            ]
          },
          "metadata": {},
          "execution_count": 162
        }
      ]
    },
    {
      "cell_type": "code",
      "source": [
        "# checking all the metrics\n",
        "regressor.score(X_test,Y_test)"
      ],
      "metadata": {
        "colab": {
          "base_uri": "https://localhost:8080/"
        },
        "id": "_-ZnTUQaO5Q7",
        "outputId": "32b557c4-0a81-464f-a035-cdddf9a5c986"
      },
      "execution_count": null,
      "outputs": [
        {
          "output_type": "execute_result",
          "data": {
            "text/plain": [
              "0.999675774551044"
            ]
          },
          "metadata": {},
          "execution_count": 166
        }
      ]
    },
    {
      "cell_type": "code",
      "source": [
        "import math"
      ],
      "metadata": {
        "id": "sRQhyrDKPW-i"
      },
      "execution_count": null,
      "outputs": []
    },
    {
      "cell_type": "code",
      "source": [
        "print('mean absolute error:', metrics.mean_absolute_error(Y_test,Y_test_pred))  # checking mean absolute error"
      ],
      "metadata": {
        "colab": {
          "base_uri": "https://localhost:8080/"
        },
        "id": "gd2GbUGePKlX",
        "outputId": "1e0fe4fc-1797-452d-8dfd-229c2ac9456d"
      },
      "execution_count": null,
      "outputs": [
        {
          "output_type": "stream",
          "name": "stdout",
          "text": [
            "mean absolute error: 1.3270601539374272\n"
          ]
        }
      ]
    },
    {
      "cell_type": "code",
      "source": [
        "print('mean squared error:', metrics.mean_squared_error(Y_test,Y_test_pred))  # checking mean squared error"
      ],
      "metadata": {
        "colab": {
          "base_uri": "https://localhost:8080/"
        },
        "id": "ujKgJSSUP5s8",
        "outputId": "0b9673c9-4295-41ec-c62b-102cc69c00a2"
      },
      "execution_count": null,
      "outputs": [
        {
          "output_type": "stream",
          "name": "stdout",
          "text": [
            "mean squared error: 4.162581880815175\n"
          ]
        }
      ]
    },
    {
      "cell_type": "code",
      "source": [
        "print('Root mean squared error:',math.sqrt(metrics.mean_squared_error(Y_test,Y_test_pred))) # checking root mean squared error"
      ],
      "metadata": {
        "colab": {
          "base_uri": "https://localhost:8080/"
        },
        "id": "MkFJHVmfQHQI",
        "outputId": "7fa143d2-b722-4fed-f13e-cf1e7f3abe6f"
      },
      "execution_count": null,
      "outputs": [
        {
          "output_type": "stream",
          "name": "stdout",
          "text": [
            "Root mean squared error: 2.0402406428691626\n"
          ]
        }
      ]
    },
    {
      "cell_type": "code",
      "source": [
        "# checking the plot for actual and predicted value\n",
        "dataframe.head(15).plot(kind='bar')"
      ],
      "metadata": {
        "colab": {
          "base_uri": "https://localhost:8080/",
          "height": 298
        },
        "id": "CsYGzlQEQtNw",
        "outputId": "a446eec7-0ffb-44a6-f232-6ca688623256"
      },
      "execution_count": null,
      "outputs": [
        {
          "output_type": "execute_result",
          "data": {
            "text/plain": [
              "<matplotlib.axes._subplots.AxesSubplot at 0x7f72a5f407d0>"
            ]
          },
          "metadata": {},
          "execution_count": 176
        },
        {
          "output_type": "display_data",
          "data": {
            "text/plain": [
              "<Figure size 432x288 with 1 Axes>"
            ],
            "image/png": "[encoded data removed]"
          },
          "metadata": {
            "needs_background": "light"
          }
        }
      ]
    },
    {
      "cell_type": "markdown",
      "source": [
        "# **CONCLUSION**"
      ],
      "metadata": {
        "id": "pvLBURrHS2VV"
      }
    },
    {
      "cell_type": "markdown",
      "source": [
        "This project should be taken only as linear regression project and not as a investing tool, Because stock price can never be actually predicted, It is determined by lot of factors, This project is only for understanding purpose."
      ],
      "metadata": {
        "id": "T8obevAYTAz5"
      }
    }
  ]
}